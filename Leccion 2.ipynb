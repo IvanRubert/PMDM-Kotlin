{
 "cells": [
  {
   "cell_type": "code",
   "metadata": {
    "collapsed": true,
    "ExecuteTime": {
     "end_time": "2025-09-17T15:29:48.230356015Z",
     "start_time": "2025-09-17T15:29:47.973836628Z"
    }
   },
   "source": [
    "val isUnit = println(\"This is an expression\")\n",
    "println(isUnit)\n",
    "\n",
    "val temperature = 10\n",
    "var isHot = if (temperature > 50) true else false\n",
    "println(isHot)\n",
    "\n",
    "val message = \"The water temperature is ${if (temperature > 50) \"too warm\" else \"OK\"}.\"\n",
    "println(message)"
   ],
   "outputs": [
    {
     "name": "stdout",
     "output_type": "stream",
     "text": [
      "This is an expression\n",
      "kotlin.Unit\n",
      "false\n",
      "The water temperature is OK.\n"
     ]
    }
   ],
   "execution_count": 17
  },
  {
   "metadata": {
    "ExecuteTime": {
     "end_time": "2025-09-17T15:29:48.606147610Z",
     "start_time": "2025-09-17T15:29:48.290544074Z"
    }
   },
   "cell_type": "code",
   "source": [
    "import java.util.Random\n",
    "\n",
    "fun feedTheFish() {\n",
    "    val day = randomDay()\n",
    "    val food = \"pellets\"\n",
    "    println(\"Today is $day and the fish eat $food\")\n",
    "}\n",
    "\n",
    "fun randomDay(): String {\n",
    "    val week = arrayOf(\n",
    "        \"Monday\", \"Tuesday\", \"Wednesday\", \"Thursday\",\n",
    "        \"Friday\", \"Saturday\", \"Sunday\"\n",
    "    )\n",
    "    return week[Random().nextInt(week.size)]\n",
    "}\n",
    "\n",
    "feedTheFish()"
   ],
   "outputs": [
    {
     "name": "stdout",
     "output_type": "stream",
     "text": [
      "Today is Thursday and the fish eat pellets\n"
     ]
    }
   ],
   "execution_count": 18
  },
  {
   "metadata": {
    "ExecuteTime": {
     "end_time": "2025-09-17T15:29:49.439256872Z",
     "start_time": "2025-09-17T15:29:48.681068012Z"
    }
   },
   "cell_type": "code",
   "source": [
    "fun fishFood(day: String): String {\n",
    "    var food = \"\"\n",
    "    when (day) {\n",
    "        \"Monday\" -> food = \"flakes\"\n",
    "        \"Tuesday\" -> food = \"pellets\"\n",
    "        \"Wednesday\" -> food = \"redworms\"\n",
    "        \"Thursday\" -> food = \"granules\"\n",
    "        \"Friday\" -> food = \"mosquitoes\"\n",
    "        \"Saturday\" -> food = \"lettuce\"\n",
    "        \"Sunday\" -> food = \"plankton\"\n",
    "    }\n",
    "    return food\n",
    "}\n",
    "\n",
    "fun feedTheFish() {\n",
    "    val day = randomDay()\n",
    "    val food = fishFood(day)\n",
    "\n",
    "    println(\"Today is $day and the fish eat $food\")\n",
    "}\n",
    "\n",
    "fun randomDay(): String {\n",
    "    val week = arrayOf(\n",
    "        \"Monday\", \"Tuesday\", \"Wednesday\", \"Thursday\",\n",
    "        \"Friday\", \"Saturday\", \"Sunday\"\n",
    "    )\n",
    "    return week[Random().nextInt(week.size)]\n",
    "}\n",
    "\n",
    "feedTheFish()"
   ],
   "outputs": [
    {
     "name": "stdout",
     "output_type": "stream",
     "text": [
      "Today is Thursday and the fish eat granules\n"
     ]
    }
   ],
   "execution_count": 19
  },
  {
   "metadata": {
    "ExecuteTime": {
     "end_time": "2025-09-17T15:29:50.323783924Z",
     "start_time": "2025-09-17T15:29:49.675735474Z"
    }
   },
   "cell_type": "code",
   "source": [
    "fun fishFood(day: String): String {\n",
    "    return when (day) {\n",
    "        \"Monday\" -> \"flakes\"\n",
    "        \"Wednesday\" -> \"redworms\"\n",
    "        \"Thursday\" -> \"granules\"\n",
    "        \"Friday\" -> \"mosquitoes\"\n",
    "        \"Sunday\" -> \"plankton\"\n",
    "        else -> \"nothing\"\n",
    "    }\n",
    "}\n",
    "\n",
    "fun feedTheFish() {\n",
    "    val day = randomDay()\n",
    "    val food = fishFood(day)\n",
    "\n",
    "    println(\"Today is $day and the fish eat $food\")\n",
    "}\n",
    "\n",
    "fun randomDay(): String {\n",
    "    val week = arrayOf(\n",
    "        \"Monday\", \"Tuesday\", \"Wednesday\", \"Thursday\",\n",
    "        \"Friday\", \"Saturday\", \"Sunday\"\n",
    "    )\n",
    "    return week[Random().nextInt(week.size)]\n",
    "}\n",
    "\n",
    "feedTheFish()"
   ],
   "outputs": [
    {
     "name": "stdout",
     "output_type": "stream",
     "text": [
      "Today is Friday and the fish eat mosquitoes\n"
     ]
    }
   ],
   "execution_count": 20
  },
  {
   "metadata": {
    "ExecuteTime": {
     "end_time": "2025-09-17T15:29:50.854802917Z",
     "start_time": "2025-09-17T15:29:50.435373582Z"
    }
   },
   "cell_type": "code",
   "source": [
    "fun swim(speed: String = \"fast\") {\n",
    "    println(\"Swimming $speed\")\n",
    "}\n",
    "\n",
    "swim()\n",
    "swim(\"slow\")\n",
    "swim(speed = \"turtle-like\")"
   ],
   "outputs": [
    {
     "name": "stdout",
     "output_type": "stream",
     "text": [
      "Swimming fast\n",
      "Swimming slow\n",
      "Swimming turtle-like\n"
     ]
    }
   ],
   "execution_count": 21
  },
  {
   "metadata": {
    "ExecuteTime": {
     "end_time": "2025-09-17T15:29:52.079488753Z",
     "start_time": "2025-09-17T15:29:50.980822536Z"
    }
   },
   "cell_type": "code",
   "source": [
    "fun isTooHot(temperature: Int) = temperature > 30\n",
    "\n",
    "fun isDirty(dirty: Int) = dirty > 30\n",
    "\n",
    "fun isSunday(day: String) = day == \"Sunday\"\n",
    "\n",
    "fun shouldChangeWater(day: String, temperature: Int = 22, dirty: Int = 20): Boolean {\n",
    "    return when {\n",
    "        isTooHot(temperature) -> true\n",
    "        isDirty(dirty) -> true\n",
    "        isSunday(day) -> true\n",
    "        else -> false\n",
    "    }\n",
    "}\n",
    "\n",
    "fun fishFood(day: String): String {\n",
    "    return when (day) {\n",
    "        \"Monday\" -> \"flakes\"\n",
    "        \"Wednesday\" -> \"redworms\"\n",
    "        \"Thursday\" -> \"granules\"\n",
    "        \"Friday\" -> \"mosquitoes\"\n",
    "        \"Sunday\" -> \"plankton\"\n",
    "        else -> \"nothing\"\n",
    "    }\n",
    "}\n",
    "\n",
    "fun feedTheFish() {\n",
    "    val day = randomDay()\n",
    "    val food = fishFood(day)\n",
    "\n",
    "    println(\"Today is $day and the fish eat $food\")\n",
    "    println(\"Change water: ${shouldChangeWater(day)}\")\n",
    "}\n",
    "\n",
    "fun randomDay(): String {\n",
    "    val week = arrayOf(\n",
    "        \"Monday\", \"Tuesday\", \"Wednesday\", \"Thursday\",\n",
    "        \"Friday\", \"Saturday\", \"Sunday\"\n",
    "    )\n",
    "    return week[Random().nextInt(week.size)]\n",
    "}\n",
    "\n",
    "feedTheFish()"
   ],
   "outputs": [
    {
     "name": "stdout",
     "output_type": "stream",
     "text": [
      "Today is Sunday and the fish eat plankton\n",
      "Change water: true\n"
     ]
    }
   ],
   "execution_count": 22
  },
  {
   "metadata": {
    "ExecuteTime": {
     "end_time": "2025-09-17T15:29:52.717689166Z",
     "start_time": "2025-09-17T15:29:52.314985874Z"
    }
   },
   "cell_type": "code",
   "source": "val decorations = listOf(\"rock\", \"pagoda\", \"plastic plant\", \"alligator\", \"flowerpot\")",
   "outputs": [],
   "execution_count": 23
  },
  {
   "metadata": {
    "ExecuteTime": {
     "end_time": "2025-09-17T15:29:53.418347110Z",
     "start_time": "2025-09-17T15:29:52.942175665Z"
    }
   },
   "cell_type": "code",
   "source": "println(decorations.filter { it[0] == 'p' })",
   "outputs": [
    {
     "name": "stdout",
     "output_type": "stream",
     "text": [
      "[pagoda, plastic plant]\n"
     ]
    }
   ],
   "execution_count": 24
  },
  {
   "metadata": {
    "ExecuteTime": {
     "end_time": "2025-09-17T15:29:54.402527094Z",
     "start_time": "2025-09-17T15:29:53.684144697Z"
    }
   },
   "cell_type": "code",
   "source": [
    "val eager = decorations.filter { it[0] == 'p' }\n",
    "println(\"eager: $eager\")\n",
    "\n",
    "val filtered = decorations.asSequence().filter { it[0] == 'p' }\n",
    "println(\"filtered: $filtered\")\n",
    "\n",
    "val newList = filtered.toList()\n",
    "println(\"new list: $newList\")"
   ],
   "outputs": [
    {
     "name": "stdout",
     "output_type": "stream",
     "text": [
      "eager: [pagoda, plastic plant]\n",
      "filtered: kotlin.sequences.FilteringSequence@714a8a7a\n",
      "new list: [pagoda, plastic plant]\n"
     ]
    }
   ],
   "execution_count": 25
  },
  {
   "metadata": {
    "ExecuteTime": {
     "end_time": "2025-09-17T15:29:55.533274114Z",
     "start_time": "2025-09-17T15:29:54.653391563Z"
    }
   },
   "cell_type": "code",
   "source": [
    "val lazyMap = decorations.asSequence().map {\n",
    "    println(\"access: $it\")\n",
    "    it\n",
    "}\n",
    "\n",
    "println(\"lazy: $lazyMap\")\n",
    "println(\"----------\")\n",
    "println(\"first: ${lazyMap.first()}\")\n",
    "println(\"----------\")\n",
    "println(\"all: ${lazyMap.toList()}\")"
   ],
   "outputs": [
    {
     "name": "stdout",
     "output_type": "stream",
     "text": [
      "lazy: kotlin.sequences.TransformingSequence@25ee515c\n",
      "----------\n",
      "access: rock\n",
      "first: rock\n",
      "----------\n",
      "access: rock\n",
      "access: pagoda\n",
      "access: plastic plant\n",
      "access: alligator\n",
      "access: flowerpot\n",
      "all: [rock, pagoda, plastic plant, alligator, flowerpot]\n"
     ]
    }
   ],
   "execution_count": 26
  },
  {
   "metadata": {
    "ExecuteTime": {
     "end_time": "2025-09-17T15:29:56.861742016Z",
     "start_time": "2025-09-17T15:29:55.833009587Z"
    }
   },
   "cell_type": "code",
   "source": [
    "val lazyMap2 = decorations.asSequence().filter { it[0] == 'p' }.map {\n",
    "    println(\"access: $it\")\n",
    "    it\n",
    "}\n",
    "println(\"----------\")\n",
    "println(\"filtered: ${lazyMap2.toList()}\")"
   ],
   "outputs": [
    {
     "name": "stdout",
     "output_type": "stream",
     "text": [
      "----------\n",
      "access: pagoda\n",
      "access: plastic plant\n",
      "filtered: [pagoda, plastic plant]\n"
     ]
    }
   ],
   "execution_count": 27
  },
  {
   "metadata": {
    "ExecuteTime": {
     "end_time": "2025-09-17T15:29:57.679378831Z",
     "start_time": "2025-09-17T15:29:56.951764084Z"
    }
   },
   "cell_type": "code",
   "source": [
    "val mysports = listOf(\"basketball\", \"fishing\", \"running\")\n",
    "val myplayers = listOf(\"LeBron James\", \"Ernest Hemingway\", \"Usain Bolt\")\n",
    "val mycities = listOf(\"Los Angeles\", \"Chicago\", \"Jamaica\")\n",
    "val myList = listOf(mysports, myplayers, mycities)\n",
    "println(\"----------\")\n",
    "println(\"Flat: ${myList.flatten()}\")"
   ],
   "outputs": [
    {
     "name": "stdout",
     "output_type": "stream",
     "text": [
      "----------\n",
      "Flat: [basketball, fishing, running, LeBron James, Ernest Hemingway, Usain Bolt, Los Angeles, Chicago, Jamaica]\n"
     ]
    }
   ],
   "execution_count": 28
  },
  {
   "metadata": {
    "ExecuteTime": {
     "end_time": "2025-09-17T15:29:58.225408672Z",
     "start_time": "2025-09-17T15:29:57.871465028Z"
    }
   },
   "cell_type": "code",
   "source": [
    "var dirtylevel = 20\n",
    "val waterfilter = { dirty: Int -> dirty / 2 }\n",
    "\n",
    "println(waterfilter(dirtylevel))"
   ],
   "outputs": [
    {
     "name": "stdout",
     "output_type": "stream",
     "text": [
      "10\n"
     ]
    }
   ],
   "execution_count": 29
  },
  {
   "metadata": {
    "ExecuteTime": {
     "end_time": "2025-09-17T15:29:58.859693828Z",
     "start_time": "2025-09-17T15:29:58.486341574Z"
    }
   },
   "cell_type": "code",
   "source": [
    "fun updateDirty(dirty: Int, operation: (Int) -> Int): Int {\n",
    "    return operation(dirty)\n",
    "}\n",
    "\n",
    "println(updateDirty(30, waterfilter))"
   ],
   "outputs": [
    {
     "name": "stdout",
     "output_type": "stream",
     "text": [
      "15\n"
     ]
    }
   ],
   "execution_count": 30
  },
  {
   "metadata": {
    "ExecuteTime": {
     "end_time": "2025-09-17T15:29:59.559864119Z",
     "start_time": "2025-09-17T15:29:59.172825377Z"
    }
   },
   "cell_type": "code",
   "source": [
    "fun increaseDirty(start: Int) = start + 1\n",
    "\n",
    "println(updateDirty(15, ::increaseDirty))"
   ],
   "outputs": [
    {
     "name": "stdout",
     "output_type": "stream",
     "text": [
      "16\n"
     ]
    }
   ],
   "execution_count": 31
  },
  {
   "metadata": {
    "ExecuteTime": {
     "end_time": "2025-09-17T15:30:00.458531889Z",
     "start_time": "2025-09-17T15:30:00.050804896Z"
    }
   },
   "cell_type": "code",
   "source": [
    "var dirtyLevel = 19\n",
    "dirtyLevel = updateDirty(dirtyLevel) { dirtyLevel -> dirtyLevel + 23 }\n",
    "println(dirtyLevel)"
   ],
   "outputs": [
    {
     "name": "stdout",
     "output_type": "stream",
     "text": [
      "42\n"
     ]
    }
   ],
   "execution_count": 32
  }
 ],
 "metadata": {
  "kernelspec": {
   "display_name": "Kotlin",
   "language": "kotlin",
   "name": "kotlin"
  },
  "language_info": {
   "name": "kotlin",
   "version": "2.2.20-Beta2",
   "mimetype": "text/x-kotlin",
   "file_extension": ".kt",
   "pygments_lexer": "kotlin",
   "codemirror_mode": "text/x-kotlin",
   "nbconvert_exporter": ""
  }
 },
 "nbformat": 4,
 "nbformat_minor": 0
}
