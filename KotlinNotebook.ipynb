{
 "cells": [
  {
   "metadata": {
    "ExecuteTime": {
     "end_time": "2025-09-12T14:11:43.870642776Z",
     "start_time": "2025-09-12T14:11:43.468590669Z"
    }
   },
   "cell_type": "code",
   "source": [
    "fun printHello() {\n",
    "    println(\"Hello World\")\n",
    "}\n",
    "\n",
    "printHello()"
   ],
   "outputs": [
    {
     "name": "stdout",
     "output_type": "stream",
     "text": [
      "Hello World\n"
     ]
    }
   ],
   "execution_count": 1
  },
  {
   "metadata": {
    "ExecuteTime": {
     "end_time": "2025-09-12T14:26:25.706473901Z",
     "start_time": "2025-09-12T14:26:25.442305217Z"
    }
   },
   "cell_type": "code",
   "source": [
    "val i: Int = 6\n",
    "val b1 = i.toByte()\n",
    "println(b1)\n",
    "val d1: Double = b1.toDouble()\n",
    "println(d1)"
   ],
   "outputs": [
    {
     "name": "stdout",
     "output_type": "stream",
     "text": [
      "6\n",
      "6.0\n"
     ]
    }
   ],
   "execution_count": 15
  },
  {
   "metadata": {
    "ExecuteTime": {
     "end_time": "2025-09-12T14:36:55.771319258Z",
     "start_time": "2025-09-12T14:36:55.292566329Z"
    }
   },
   "cell_type": "code",
   "source": [
    "var numberOfFish = 50\n",
    "val numberOfPlants = 23\n",
    "if (numberOfFish > numberOfPlants)\n",
    "    println(\"Good ratio!\")\n",
    "else println(\"Unhealthy ratio!\")\n",
    "\n",
    "// If-Else\n",
    "if (numberOfFish == 0)\n",
    "    println(\"Empty tank\")\n",
    "else if (numberOfFish < 40)\n",
    "    println(\"Got Fish!\")\n",
    "else println(\"That's a lot of fish!\")\n",
    "\n",
    "numberOfFish = 30\n",
    "// When\n",
    "when (numberOfFish){\n",
    "    0 -> println(\"Empty tank\")\n",
    "    in 1..39 -> println(\"Got fish!\")\n",
    "    else -> println(\"That's a lot of fish!\")\n",
    "}"
   ],
   "outputs": [
    {
     "name": "stdout",
     "output_type": "stream",
     "text": [
      "Good ratio!\n",
      "That's a lot of fish!\n",
      "Got fish!\n"
     ]
    }
   ],
   "execution_count": 24
  },
  {
   "metadata": {
    "ExecuteTime": {
     "end_time": "2025-09-12T14:30:34.725245838Z",
     "start_time": "2025-09-12T14:30:34.563024355Z"
    }
   },
   "cell_type": "code",
   "source": [
    "val fish = 50\n",
    "if (fish in 1..100)\n",
    "    println(fish)"
   ],
   "outputs": [
    {
     "name": "stdout",
     "output_type": "stream",
     "text": [
      "50\n"
     ]
    }
   ],
   "execution_count": 22
  },
  {
   "metadata": {
    "ExecuteTime": {
     "end_time": "2025-09-12T14:44:35.030124709Z",
     "start_time": "2025-09-12T14:44:34.772521036Z"
    }
   },
   "cell_type": "code",
   "source": [
    "// Sin ?\n",
    "var fishFoodTreats: Int = 6\n",
    "if (fishFoodTreats != null)\n",
    "    println(fishFoodTreats.dec())\n",
    "\n",
    "// Con ?\n",
    "println(fishFoodTreats?.dec())"
   ],
   "outputs": [
    {
     "name": "stdout",
     "output_type": "stream",
     "text": [
      "5\n",
      "5\n"
     ]
    }
   ],
   "execution_count": 27
  },
  {
   "metadata": {
    "ExecuteTime": {
     "end_time": "2025-09-12T14:47:54.564923717Z",
     "start_time": "2025-09-12T14:47:54.218307372Z"
    }
   },
   "cell_type": "code",
   "source": [
    "// Lista inmutable\n",
    "val school = listOf(\"mackrel\", \"trout\", \"halibut\")\n",
    "println(school)\n",
    "\n",
    "// Lista mutable\n",
    "val myList = mutableListOf(\"tuna\", \"salmon\", \"shark\")\n",
    "myList.remove(\"shark\")\n",
    "println(myList)"
   ],
   "outputs": [
    {
     "name": "stdout",
     "output_type": "stream",
     "text": [
      "[mackrel, trout, halibut]\n",
      "[tuna, salmon]\n"
     ]
    }
   ],
   "execution_count": 28
  },
  {
   "metadata": {
    "ExecuteTime": {
     "end_time": "2025-09-12T14:54:46.987693738Z",
     "start_time": "2025-09-12T14:54:46.446133984Z"
    }
   },
   "cell_type": "code",
   "source": [
    "val school = arrayOf(\"shark\", \"salmon\", \"minnow\")\n",
    "println(java.util.Arrays.toString(school))\n",
    "\n",
    "val mix = arrayOf(\"fish\", 2)\n",
    "println(java.util.Arrays.toString(mix))\n",
    "\n",
    "val numbers = intArrayOf(1,2,3)\n",
    "println(java.util.Arrays.toString(numbers))\n",
    "\n",
    "val numbers3 = intArrayOf(4,5,6)\n",
    "val foo2 = numbers3 + numbers\n",
    "println(foo2[5])\n",
    "\n",
    "val oceans = listOf(\"Atlantic\", \"Pacific\")\n",
    "val oddList = listOf(numbers, oceans, \"salmon\")\n",
    "println(oddList)\n"
   ],
   "outputs": [
    {
     "name": "stdout",
     "output_type": "stream",
     "text": [
      "[shark, salmon, minnow]\n",
      "[fish, 2]\n",
      "[1, 2, 3]\n",
      "3\n",
      "[[I@7eebad2e, [Atlantic, Pacific], salmon]\n"
     ]
    }
   ],
   "execution_count": 31
  },
  {
   "metadata": {
    "ExecuteTime": {
     "end_time": "2025-09-12T15:13:19.717492953Z",
     "start_time": "2025-09-12T15:13:19.115775652Z"
    }
   },
   "cell_type": "code",
   "source": [
    "for (i in 1..5) print(i)\n",
    "println()\n",
    "for (i in 5 downTo 1) print(i)\n",
    "println()\n",
    "for (i in 3..6 step 2) print(i)\n",
    "println()\n",
    "for (i in 'd'..'g') print(i)"
   ],
   "outputs": [
    {
     "name": "stdout",
     "output_type": "stream",
     "text": [
      "12345\n",
      "54321\n",
      "35\n",
      "defg"
     ]
    }
   ],
   "execution_count": 32
  },
  {
   "metadata": {
    "ExecuteTime": {
     "end_time": "2025-09-12T15:14:40.012265042Z",
     "start_time": "2025-09-12T15:14:39.628614149Z"
    }
   },
   "cell_type": "code",
   "source": [
    "var bubbles = 0\n",
    "while (bubbles < 50) {\n",
    "    bubbles++\n",
    "}\n",
    "println(\"$bubbles bubbles in the water\\n\")\n",
    "\n",
    "do {\n",
    "    bubbles--\n",
    "} while (bubbles > 50)\n",
    "println(\"$bubbles bubbles in the water\\n\")\n",
    "\n",
    "repeat(2) {\n",
    "    print(\"A fish is swimming\")\n",
    "}"
   ],
   "outputs": [
    {
     "name": "stdout",
     "output_type": "stream",
     "text": [
      "50 bubbles in the water\n",
      "\n",
      "49 bubbles in the water\n",
      "\n",
      "A fish is swimmingA fish is swimming"
     ]
    }
   ],
   "execution_count": 34
  },
  {
   "metadata": {
    "ExecuteTime": {
     "end_time": "2025-09-12T15:32:33.206890134Z",
     "start_time": "2025-09-12T15:32:32.897071019Z"
    }
   },
   "cell_type": "code",
   "source": [
    "val isUnit = println(\"This is an expression\")\n",
    "println(isUnit)\n",
    "\n",
    "val temperature = 10\n",
    "var isHot = if (temperature > 50) true else false\n",
    "println(isHot)\n",
    "\n",
    "val message = \"The water temperature is ${ if (temperature > 50) \"too warm\" else \"OK\"}.\"\n",
    "println(message)"
   ],
   "outputs": [
    {
     "name": "stdout",
     "output_type": "stream",
     "text": [
      "This is an expression\n",
      "kotlin.Unit\n",
      "false\n",
      "The water temperature is OK.\n"
     ]
    }
   ],
   "execution_count": 4
  },
  {
   "metadata": {
    "ExecuteTime": {
     "end_time": "2025-09-12T15:39:47.706443787Z",
     "start_time": "2025-09-12T15:39:47.354922664Z"
    }
   },
   "cell_type": "code",
   "source": [
    "import java.util.Random\n",
    "\n",
    "fun feedTheFish() {\n",
    "    val day = randomDay()\n",
    "    val food = \"pellets\"\n",
    "    println(\"Today is $day and the fish eat $food\")\n",
    "}\n",
    "\n",
    "fun randomDay(): String {\n",
    "    val week = arrayOf(\"Monday\", \"Tuesday\", \"Wednesday\", \"Thursday\",\n",
    "        \"Friday\", \"Saturday\", \"Sunday\")\n",
    "    return week[Random().nextInt(week.size)]\n",
    "}\n",
    "\n",
    "feedTheFish()"
   ],
   "outputs": [
    {
     "name": "stdout",
     "output_type": "stream",
     "text": [
      "Today is Saturday and the fish eat pellets\n"
     ]
    }
   ],
   "execution_count": 7
  },
  {
   "metadata": {
    "ExecuteTime": {
     "end_time": "2025-09-12T15:43:48.861857247Z",
     "start_time": "2025-09-12T15:43:48.461342963Z"
    }
   },
   "cell_type": "code",
   "source": [
    "fun fishFood (day: String): String {\n",
    "    var food = \"\"\n",
    "    when(day){\n",
    "        \"Monday\" -> food = \"flakes\"\n",
    "        \"Tuesday\" -> food = \"pellets\"\n",
    "        \"Wednesday\" -> food = \"redworms\"\n",
    "        \"Thursday\" -> food = \"granules\"\n",
    "        \"Friday\" -> food = \"mosquitoes\"\n",
    "        \"Saturday\" -> food = \"lettuce\"\n",
    "        \"Sunday\" -> food = \"plankton\"\n",
    "    }\n",
    "    return food\n",
    "}\n",
    "\n",
    "fun feedTheFish(){\n",
    "    val day = randomDay()\n",
    "    val food = fishFood(day)\n",
    "\n",
    "    println (\"Today is $day and the fish eat $food\")\n",
    "}\n",
    "\n",
    "fun randomDay(): String {\n",
    "    val week = arrayOf(\"Monday\", \"Tuesday\", \"Wednesday\", \"Thursday\",\n",
    "        \"Friday\", \"Saturday\", \"Sunday\")\n",
    "    return week[Random().nextInt(week.size)]\n",
    "}\n",
    "\n",
    "feedTheFish()"
   ],
   "outputs": [
    {
     "name": "stdout",
     "output_type": "stream",
     "text": [
      "Today is Thursday and the fish eat granules\n"
     ]
    }
   ],
   "execution_count": 16
  },
  {
   "metadata": {
    "ExecuteTime": {
     "end_time": "2025-09-12T15:45:41.301654290Z",
     "start_time": "2025-09-12T15:45:40.876005907Z"
    }
   },
   "cell_type": "code",
   "source": [
    "fun fishFood (day: String): String {\n",
    "    return when(day){\n",
    "        \"Monday\" -> \"flakes\"\n",
    "        \"Wednesday\" -> \"redworms\"\n",
    "        \"Thursday\" -> \"granules\"\n",
    "        \"Friday\" -> \"mosquitoes\"\n",
    "        \"Sunday\" -> \"plankton\"\n",
    "        else -> \"nothing\"\n",
    "    }\n",
    "}\n",
    "\n",
    "fun feedTheFish(){\n",
    "    val day = randomDay()\n",
    "    val food = fishFood(day)\n",
    "\n",
    "    println (\"Today is $day and the fish eat $food\")\n",
    "}\n",
    "\n",
    "fun randomDay(): String {\n",
    "    val week = arrayOf(\"Monday\", \"Tuesday\", \"Wednesday\", \"Thursday\",\n",
    "        \"Friday\", \"Saturday\", \"Sunday\")\n",
    "    return week[Random().nextInt(week.size)]\n",
    "}\n",
    "\n",
    "feedTheFish()"
   ],
   "outputs": [
    {
     "name": "stdout",
     "output_type": "stream",
     "text": [
      "Today is Saturday and the fish eat nothing\n"
     ]
    }
   ],
   "execution_count": 19
  },
  {
   "metadata": {
    "ExecuteTime": {
     "end_time": "2025-09-12T16:18:37.819573393Z",
     "start_time": "2025-09-12T16:18:37.671744091Z"
    }
   },
   "cell_type": "code",
   "source": [
    "fun swim(speed: String = \"fast\"){\n",
    "    println(\"Swimming $speed\")\n",
    "}\n",
    "\n",
    "swim()\n",
    "swim(\"slow\")\n",
    "swim(speed = \"turtle-like\")"
   ],
   "outputs": [
    {
     "name": "stdout",
     "output_type": "stream",
     "text": [
      "Swimming fast\n",
      "Swimming slow\n",
      "Swimming turtle-like\n"
     ]
    }
   ],
   "execution_count": 21
  },
  {
   "metadata": {
    "ExecuteTime": {
     "end_time": "2025-09-12T16:25:37.105427147Z",
     "start_time": "2025-09-12T16:25:36.805529546Z"
    }
   },
   "cell_type": "code",
   "source": [
    "fun isTooHot(temperature: Int) = temperature > 30\n",
    "\n",
    "fun isDirty(dirty: Int) = dirty > 30\n",
    "\n",
    "fun isSunday(day: String) = day == \"Sunday\"\n",
    "\n",
    "fun shouldChangeWater(day:String, temperature: Int = 22, dirty: Int = 20): Boolean {\n",
    "    return when {\n",
    "        isTooHot(temperature) -> true\n",
    "        isDirty(dirty) -> true\n",
    "        isSunday(day) -> true\n",
    "        else -> false\n",
    "    }\n",
    "}\n",
    "\n",
    "fun fishFood (day: String): String {\n",
    "    return when(day){\n",
    "        \"Monday\" -> \"flakes\"\n",
    "        \"Wednesday\" -> \"redworms\"\n",
    "        \"Thursday\" -> \"granules\"\n",
    "        \"Friday\" -> \"mosquitoes\"\n",
    "        \"Sunday\" -> \"plankton\"\n",
    "        else -> \"nothing\"\n",
    "    }\n",
    "}\n",
    "\n",
    "fun feedTheFish(){\n",
    "    val day = randomDay()\n",
    "    val food = fishFood(day)\n",
    "\n",
    "    println (\"Today is $day and the fish eat $food\")\n",
    "    println(\"Change water: ${shouldChangeWater(day)}\")\n",
    "}\n",
    "\n",
    "fun randomDay(): String {\n",
    "    val week = arrayOf(\"Monday\", \"Tuesday\", \"Wednesday\", \"Thursday\",\n",
    "        \"Friday\", \"Saturday\", \"Sunday\")\n",
    "    return week[Random().nextInt(week.size)]\n",
    "}\n",
    "\n",
    "feedTheFish()"
   ],
   "outputs": [
    {
     "name": "stdout",
     "output_type": "stream",
     "text": [
      "Today is Friday and the fish eat mosquitoes\n",
      "Change water: false\n"
     ]
    }
   ],
   "execution_count": 25
  },
  {
   "metadata": {
    "ExecuteTime": {
     "end_time": "2025-09-13T16:39:11.858704174Z",
     "start_time": "2025-09-13T16:39:11.688279626Z"
    }
   },
   "cell_type": "code",
   "source": "val decorations = listOf(\"rock\", \"pagoda\", \"plastic plant\", \"alligator\", \"flowerpot\")",
   "outputs": [],
   "execution_count": 5
  },
  {
   "metadata": {
    "ExecuteTime": {
     "end_time": "2025-09-13T16:38:44.978934438Z",
     "start_time": "2025-09-13T16:38:44.675425485Z"
    }
   },
   "cell_type": "code",
   "source": "println(decorations.filter { it[0] == 'p' })",
   "outputs": [
    {
     "data": {
      "text/plain": [
       "[pagoda, plastic plant]"
      ]
     },
     "execution_count": 4,
     "metadata": {},
     "output_type": "execute_result"
    }
   ],
   "execution_count": 4
  },
  {
   "metadata": {
    "ExecuteTime": {
     "end_time": "2025-09-13T16:45:46.397059191Z",
     "start_time": "2025-09-13T16:45:45.858788373Z"
    }
   },
   "cell_type": "code",
   "source": [
    "val eager = decorations.filter { it[0] == 'p' }\n",
    "println(\"eager: $eager\")\n",
    "\n",
    "val filtered = decorations.asSequence().filter { it[0] == 'p' }\n",
    "println(\"filtered: $filtered\")\n",
    "\n",
    "val newList = filtered.toList()\n",
    "println(\"new list: $newList\")"
   ],
   "outputs": [
    {
     "name": "stdout",
     "output_type": "stream",
     "text": [
      "eager: [pagoda, plastic plant]\n",
      "filtered: kotlin.sequences.FilteringSequence@2c29c1f4\n",
      "new list: [pagoda, plastic plant]\n"
     ]
    }
   ],
   "execution_count": 7
  },
  {
   "metadata": {
    "ExecuteTime": {
     "end_time": "2025-09-13T16:49:41.341437389Z",
     "start_time": "2025-09-13T16:49:40.931844341Z"
    }
   },
   "cell_type": "code",
   "source": [
    "val lazyMap = decorations.asSequence().map {\n",
    "    println(\"access: $it\")\n",
    "    it\n",
    "}\n",
    "\n",
    "println(\"lazy: $lazyMap\")\n",
    "println(\"----------\")\n",
    "println(\"first: ${lazyMap.first()}\")\n",
    "println(\"----------\")\n",
    "println(\"all: ${lazyMap.toList()}\")"
   ],
   "outputs": [
    {
     "name": "stdout",
     "output_type": "stream",
     "text": [
      "lazy: kotlin.sequences.TransformingSequence@7c8b46d0\n",
      "----------\n",
      "access: rock\n",
      "first: rock\n",
      "----------\n",
      "access: rock\n",
      "access: pagoda\n",
      "access: plastic plant\n",
      "access: alligator\n",
      "access: flowerpot\n",
      "all: [rock, pagoda, plastic plant, alligator, flowerpot]\n"
     ]
    }
   ],
   "execution_count": 10
  },
  {
   "metadata": {
    "ExecuteTime": {
     "end_time": "2025-09-13T16:53:50.114368196Z",
     "start_time": "2025-09-13T16:53:49.788554030Z"
    }
   },
   "cell_type": "code",
   "source": [
    "val lazyMap2 = decorations.asSequence().filter { it[0] == 'p' }.map {\n",
    "    println(\"access: $it\")\n",
    "    it\n",
    "}\n",
    "println(\"----------\")\n",
    "println(\"filtered: ${lazyMap2.toList()}\")"
   ],
   "outputs": [
    {
     "name": "stdout",
     "output_type": "stream",
     "text": [
      "----------\n",
      "access: pagoda\n",
      "access: plastic plant\n",
      "filtered: [pagoda, plastic plant]\n"
     ]
    }
   ],
   "execution_count": 11
  },
  {
   "metadata": {
    "ExecuteTime": {
     "end_time": "2025-09-13T17:01:23.591634789Z",
     "start_time": "2025-09-13T17:01:23.032908876Z"
    }
   },
   "cell_type": "code",
   "source": [
    "val mysports = listOf(\"basketball\", \"fishing\", \"running\")\n",
    "val myplayers = listOf(\"LeBron James\", \"Ernest Hemingway\", \"Usain Bolt\")\n",
    "val mycities = listOf(\"Los Angeles\", \"Chicago\", \"Jamaica\")\n",
    "val myList = listOf(mysports, myplayers, mycities)\n",
    "println(\"----------\")\n",
    "println(\"Flat: ${myList.flatten()}\")"
   ],
   "outputs": [
    {
     "name": "stdout",
     "output_type": "stream",
     "text": [
      "----------\n",
      "Flat: [basketball, fishing, running, LeBron James, Ernest Hemingway, Usain Bolt, Los Angeles, Chicago, Jamaica]\n"
     ]
    }
   ],
   "execution_count": 16
  },
  {
   "metadata": {
    "ExecuteTime": {
     "end_time": "2025-09-13T17:03:53.572159933Z",
     "start_time": "2025-09-13T17:03:53.252076879Z"
    }
   },
   "cell_type": "code",
   "source": [
    "var dirtylevel = 20\n",
    "val waterfilter = { dirty : Int -> dirty / 2}\n",
    "\n",
    "println(waterfilter(dirtylevel))"
   ],
   "outputs": [
    {
     "name": "stdout",
     "output_type": "stream",
     "text": [
      "10\n"
     ]
    }
   ],
   "execution_count": 17
  },
  {
   "metadata": {
    "ExecuteTime": {
     "end_time": "2025-09-13T17:08:17.418088396Z",
     "start_time": "2025-09-13T17:08:17.219290583Z"
    }
   },
   "cell_type": "code",
   "source": [
    "fun updateDirty(dirty: Int, operation: (Int) -> Int): Int {\n",
    "    return operation(dirty)\n",
    "}\n",
    "\n",
    "println(updateDirty(30, waterfilter))"
   ],
   "outputs": [
    {
     "name": "stdout",
     "output_type": "stream",
     "text": [
      "15\n"
     ]
    }
   ],
   "execution_count": 18
  },
  {
   "metadata": {
    "ExecuteTime": {
     "end_time": "2025-09-13T17:10:25.802098583Z",
     "start_time": "2025-09-13T17:10:25.515882834Z"
    }
   },
   "cell_type": "code",
   "source": [
    "fun increaseDirty( start: Int ) = start + 1\n",
    "\n",
    "println(updateDirty(15, ::increaseDirty))"
   ],
   "outputs": [
    {
     "name": "stdout",
     "output_type": "stream",
     "text": [
      "16\n"
     ]
    }
   ],
   "execution_count": 19
  },
  {
   "metadata": {
    "ExecuteTime": {
     "end_time": "2025-09-13T17:18:34.266526691Z",
     "start_time": "2025-09-13T17:18:34.120532203Z"
    }
   },
   "cell_type": "code",
   "source": [
    "var dirtyLevel = 19\n",
    "dirtyLevel = updateDirty(dirtyLevel) { dirtyLevel -> dirtyLevel + 23 }\n",
    "println(dirtyLevel)"
   ],
   "outputs": [
    {
     "name": "stdout",
     "output_type": "stream",
     "text": [
      "42\n"
     ]
    }
   ],
   "execution_count": 25
  }
 ],
 "metadata": {
  "kernelspec": {
   "display_name": "Kotlin",
   "language": "kotlin",
   "name": "kotlin"
  },
  "language_info": {
   "name": "kotlin",
   "version": "2.2.20-Beta2",
   "mimetype": "text/x-kotlin",
   "file_extension": ".kt",
   "pygments_lexer": "kotlin",
   "codemirror_mode": "text/x-kotlin",
   "nbconvert_exporter": ""
  }
 },
 "nbformat": 4,
 "nbformat_minor": 0
}
