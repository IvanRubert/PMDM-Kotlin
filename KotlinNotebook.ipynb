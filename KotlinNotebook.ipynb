{
 "cells": [
  {
   "metadata": {
    "ExecuteTime": {
     "end_time": "2025-09-12T14:11:43.870642776Z",
     "start_time": "2025-09-12T14:11:43.468590669Z"
    }
   },
   "cell_type": "code",
   "source": [
    "fun printHello() {\n",
    "    println(\"Hello World\")\n",
    "}\n",
    "\n",
    "printHello()"
   ],
   "outputs": [
    {
     "name": "stdout",
     "output_type": "stream",
     "text": [
      "Hello World\n"
     ]
    }
   ],
   "execution_count": 1
  },
  {
   "metadata": {
    "ExecuteTime": {
     "end_time": "2025-09-12T14:26:25.706473901Z",
     "start_time": "2025-09-12T14:26:25.442305217Z"
    }
   },
   "cell_type": "code",
   "source": [
    "val i: Int = 6\n",
    "val b1 = i.toByte()\n",
    "println(b1)\n",
    "val d1: Double = b1.toDouble()\n",
    "println(d1)"
   ],
   "outputs": [
    {
     "name": "stdout",
     "output_type": "stream",
     "text": [
      "6\n",
      "6.0\n"
     ]
    }
   ],
   "execution_count": 15
  },
  {
   "metadata": {
    "ExecuteTime": {
     "end_time": "2025-09-12T14:36:55.771319258Z",
     "start_time": "2025-09-12T14:36:55.292566329Z"
    }
   },
   "cell_type": "code",
   "source": [
    "var numberOfFish = 50\n",
    "val numberOfPlants = 23\n",
    "if (numberOfFish > numberOfPlants)\n",
    "    println(\"Good ratio!\")\n",
    "else println(\"Unhealthy ratio!\")\n",
    "\n",
    "// If-Else\n",
    "if (numberOfFish == 0)\n",
    "    println(\"Empty tank\")\n",
    "else if (numberOfFish < 40)\n",
    "    println(\"Got Fish!\")\n",
    "else println(\"That's a lot of fish!\")\n",
    "\n",
    "numberOfFish = 30\n",
    "// When\n",
    "when (numberOfFish){\n",
    "    0 -> println(\"Empty tank\")\n",
    "    in 1..39 -> println(\"Got fish!\")\n",
    "    else -> println(\"That's a lot of fish!\")\n",
    "}"
   ],
   "outputs": [
    {
     "name": "stdout",
     "output_type": "stream",
     "text": [
      "Good ratio!\n",
      "That's a lot of fish!\n",
      "Got fish!\n"
     ]
    }
   ],
   "execution_count": 24
  },
  {
   "metadata": {
    "ExecuteTime": {
     "end_time": "2025-09-12T14:30:34.725245838Z",
     "start_time": "2025-09-12T14:30:34.563024355Z"
    }
   },
   "cell_type": "code",
   "source": [
    "val fish = 50\n",
    "if (fish in 1..100)\n",
    "    println(fish)"
   ],
   "outputs": [
    {
     "name": "stdout",
     "output_type": "stream",
     "text": [
      "50\n"
     ]
    }
   ],
   "execution_count": 22
  },
  {
   "metadata": {
    "ExecuteTime": {
     "end_time": "2025-09-12T14:44:35.030124709Z",
     "start_time": "2025-09-12T14:44:34.772521036Z"
    }
   },
   "cell_type": "code",
   "source": [
    "// Sin ?\n",
    "var fishFoodTreats: Int = 6\n",
    "if (fishFoodTreats != null)\n",
    "    println(fishFoodTreats.dec())\n",
    "\n",
    "// Con ?\n",
    "println(fishFoodTreats?.dec())"
   ],
   "outputs": [
    {
     "name": "stdout",
     "output_type": "stream",
     "text": [
      "5\n",
      "5\n"
     ]
    }
   ],
   "execution_count": 27
  },
  {
   "metadata": {
    "ExecuteTime": {
     "end_time": "2025-09-12T14:47:54.564923717Z",
     "start_time": "2025-09-12T14:47:54.218307372Z"
    }
   },
   "cell_type": "code",
   "source": [
    "// Lista inmutable\n",
    "val school = listOf(\"mackrel\", \"trout\", \"halibut\")\n",
    "println(school)\n",
    "\n",
    "// Lista mutable\n",
    "val myList = mutableListOf(\"tuna\", \"salmon\", \"shark\")\n",
    "myList.remove(\"shark\")\n",
    "println(myList)"
   ],
   "outputs": [
    {
     "name": "stdout",
     "output_type": "stream",
     "text": [
      "[mackrel, trout, halibut]\n",
      "[tuna, salmon]\n"
     ]
    }
   ],
   "execution_count": 28
  },
  {
   "metadata": {
    "ExecuteTime": {
     "end_time": "2025-09-12T14:54:46.987693738Z",
     "start_time": "2025-09-12T14:54:46.446133984Z"
    }
   },
   "cell_type": "code",
   "source": [
    "val school = arrayOf(\"shark\", \"salmon\", \"minnow\")\n",
    "println(java.util.Arrays.toString(school))\n",
    "\n",
    "val mix = arrayOf(\"fish\", 2)\n",
    "println(java.util.Arrays.toString(mix))\n",
    "\n",
    "val numbers = intArrayOf(1,2,3)\n",
    "println(java.util.Arrays.toString(numbers))\n",
    "\n",
    "val numbers3 = intArrayOf(4,5,6)\n",
    "val foo2 = numbers3 + numbers\n",
    "println(foo2[5])\n",
    "\n",
    "val oceans = listOf(\"Atlantic\", \"Pacific\")\n",
    "val oddList = listOf(numbers, oceans, \"salmon\")\n",
    "println(oddList)\n"
   ],
   "outputs": [
    {
     "name": "stdout",
     "output_type": "stream",
     "text": [
      "[shark, salmon, minnow]\n",
      "[fish, 2]\n",
      "[1, 2, 3]\n",
      "3\n",
      "[[I@7eebad2e, [Atlantic, Pacific], salmon]\n"
     ]
    }
   ],
   "execution_count": 31
  },
  {
   "metadata": {
    "ExecuteTime": {
     "end_time": "2025-09-12T15:13:19.717492953Z",
     "start_time": "2025-09-12T15:13:19.115775652Z"
    }
   },
   "cell_type": "code",
   "source": [
    "for (i in 1..5) print(i)\n",
    "println()\n",
    "for (i in 5 downTo 1) print(i)\n",
    "println()\n",
    "for (i in 3..6 step 2) print(i)\n",
    "println()\n",
    "for (i in 'd'..'g') print(i)"
   ],
   "outputs": [
    {
     "name": "stdout",
     "output_type": "stream",
     "text": [
      "12345\n",
      "54321\n",
      "35\n",
      "defg"
     ]
    }
   ],
   "execution_count": 32
  },
  {
   "metadata": {
    "ExecuteTime": {
     "end_time": "2025-09-12T15:14:40.012265042Z",
     "start_time": "2025-09-12T15:14:39.628614149Z"
    }
   },
   "cell_type": "code",
   "source": [
    "var bubbles = 0\n",
    "while (bubbles < 50) {\n",
    "    bubbles++\n",
    "}\n",
    "println(\"$bubbles bubbles in the water\\n\")\n",
    "\n",
    "do {\n",
    "    bubbles--\n",
    "} while (bubbles > 50)\n",
    "println(\"$bubbles bubbles in the water\\n\")\n",
    "\n",
    "repeat(2) {\n",
    "    print(\"A fish is swimming\")\n",
    "}"
   ],
   "outputs": [
    {
     "name": "stdout",
     "output_type": "stream",
     "text": [
      "50 bubbles in the water\n",
      "\n",
      "49 bubbles in the water\n",
      "\n",
      "A fish is swimmingA fish is swimming"
     ]
    }
   ],
   "execution_count": 34
  }
 ],
 "metadata": {
  "kernelspec": {
   "display_name": "Kotlin",
   "language": "kotlin",
   "name": "kotlin"
  },
  "language_info": {
   "name": "kotlin",
   "version": "2.2.20-Beta2",
   "mimetype": "text/x-kotlin",
   "file_extension": ".kt",
   "pygments_lexer": "kotlin",
   "codemirror_mode": "text/x-kotlin",
   "nbconvert_exporter": ""
  }
 },
 "nbformat": 4,
 "nbformat_minor": 0
}
