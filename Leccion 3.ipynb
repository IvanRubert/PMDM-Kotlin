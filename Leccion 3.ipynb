{
 "cells": [
  {
   "metadata": {
    "ExecuteTime": {
     "end_time": "2025-09-17T15:30:15.354640787Z",
     "start_time": "2025-09-17T15:30:14.045486789Z"
    }
   },
   "cell_type": "code",
   "source": [
    "class Aquarium {\n",
    "    var width: Int = 20\n",
    "    var height: Int = 40\n",
    "    var length: Int = 100\n",
    "\n",
    "    fun printSize(){\n",
    "        println(\"Width: $width cm \\n\" +\n",
    "                \"Length: $length cm \\n\" +\n",
    "                \"Height: $height cm \\n\" +\n",
    "                \"----------------\")\n",
    "    }\n",
    "}\n",
    "\n",
    "fun buildAquarium() {\n",
    "    val myAquarium = Aquarium()\n",
    "    myAquarium.printSize()\n",
    "    myAquarium.height = 60\n",
    "    myAquarium.printSize()\n",
    "}\n",
    "\n",
    "buildAquarium()"
   ],
   "outputs": [
    {
     "name": "stdout",
     "output_type": "stream",
     "text": [
      "Width: 20 cm \n",
      "Length: 100 cm \n",
      "Height: 40 cm \n",
      "----------------\n",
      "Width: 20 cm \n",
      "Length: 100 cm \n",
      "Height: 60 cm \n",
      "----------------\n"
     ]
    }
   ],
   "execution_count": 1
  },
  {
   "metadata": {
    "ExecuteTime": {
     "end_time": "2025-09-17T15:30:17.528304519Z",
     "start_time": "2025-09-17T15:30:15.409688789Z"
    }
   },
   "cell_type": "code",
   "source": [
    "class Aquarium(length: Int = 100, width: Int = 20, height: Int = 40) {\n",
    "    var width: Int = width\n",
    "    var height: Int = height\n",
    "    var length: Int = length\n",
    "    var volume: Int\n",
    "        get() = width * height * length / 1000\n",
    "        set(value) {\n",
    "            height = (value * 1000) / (width * length)\n",
    "        }\n",
    "\n",
    "    init {\n",
    "        println(\"aquarium initializing\")\n",
    "    }\n",
    "\n",
    "    init {\n",
    "        println(\"Volume: ${width * length * height / 1000} liters\")\n",
    "    }\n",
    "\n",
    "    constructor(numberOfFish: Int) : this() {\n",
    "        val tank = numberOfFish * 2000 * 1.1\n",
    "        height = (tank / (length * width)).toInt()\n",
    "    }\n",
    "\n",
    "    fun printSize() {\n",
    "        println(\n",
    "            \"Width: $width cm \" +\n",
    "                    \"Length: $length cm \" +\n",
    "                    \"Height: $height cm \"\n",
    "        )\n",
    "        println(\"Volume: $volume liters\")\n",
    "    }\n",
    "}\n",
    "\n",
    "fun buildAquarium() {\n",
    "    val aquarium1 = Aquarium()\n",
    "    aquarium1.printSize()\n",
    "\n",
    "    val aquarium2 = Aquarium(width = 25)\n",
    "    aquarium2.printSize()\n",
    "\n",
    "    val aquarium3 = Aquarium(height = 35, length = 110)\n",
    "    aquarium3.printSize()\n",
    "\n",
    "    val aquarium4 = Aquarium(width = 25, height = 35, length = 110)\n",
    "    aquarium4.printSize()\n",
    "\n",
    "    val aquariumTank = Aquarium(numberOfFish = 29)\n",
    "    aquariumTank.printSize()\n",
    "    aquariumTank.volume = 70\n",
    "    aquariumTank.printSize()\n",
    "}\n",
    "\n",
    "buildAquarium()"
   ],
   "outputs": [
    {
     "name": "stdout",
     "output_type": "stream",
     "text": [
      "aquarium initializing\n",
      "Volume: 80 liters\n",
      "Width: 20 cm Length: 100 cm Height: 40 cm \n",
      "Volume: 80 liters\n",
      "aquarium initializing\n",
      "Volume: 100 liters\n",
      "Width: 25 cm Length: 100 cm Height: 40 cm \n",
      "Volume: 100 liters\n",
      "aquarium initializing\n",
      "Volume: 77 liters\n",
      "Width: 20 cm Length: 110 cm Height: 35 cm \n",
      "Volume: 77 liters\n",
      "aquarium initializing\n",
      "Volume: 96 liters\n",
      "Width: 25 cm Length: 110 cm Height: 35 cm \n",
      "Volume: 96 liters\n",
      "aquarium initializing\n",
      "Volume: 80 liters\n",
      "Width: 20 cm Length: 100 cm Height: 31 cm \n",
      "Volume: 62 liters\n",
      "Width: 20 cm Length: 100 cm Height: 35 cm \n",
      "Volume: 70 liters\n"
     ]
    }
   ],
   "execution_count": 2
  },
  {
   "metadata": {
    "ExecuteTime": {
     "end_time": "2025-09-17T15:30:18.907305665Z",
     "start_time": "2025-09-17T15:30:17.588818286Z"
    }
   },
   "cell_type": "code",
   "source": [
    "open class AquariumOpen(open var length: Int = 100, open var width: Int = 20, open var height: Int = 40) {\n",
    "    open var volume: Int\n",
    "        get() = width * height * length / 1000\n",
    "        set(value) {\n",
    "            height = (value * 1000) / (width * length)\n",
    "        }\n",
    "    open val shape = \"rectangle\"\n",
    "    open var water: Double = 0.0\n",
    "        get() = volume * 0.9\n",
    "\n",
    "    init {\n",
    "        println(\"aquarium initializing\")\n",
    "    }\n",
    "\n",
    "    constructor(numberOfFish: Int) : this() {\n",
    "        val tank = numberOfFish * 2000 * 1.1\n",
    "        height = (tank / (length * width)).toInt()\n",
    "    }\n",
    "\n",
    "    fun printSize() {\n",
    "        println(shape)\n",
    "        println(\n",
    "            \"Width: $width cm \" +\n",
    "                    \"Length: $length cm \" +\n",
    "                    \"Height: $height cm \"\n",
    "        )\n",
    "        println(\"Volume: $volume liters Water: $water liters (${water / volume * 100}% full)\")\n",
    "    }\n",
    "}\n",
    "\n",
    "fun buildAquarium() {\n",
    "    val aquariumTank = AquariumOpen(length = 25, width = 25, height = 40)\n",
    "    aquariumTank.printSize()\n",
    "    aquariumTank.volume = 70\n",
    "    aquariumTank.printSize()\n",
    "}\n",
    "\n",
    "buildAquarium()"
   ],
   "outputs": [
    {
     "name": "stdout",
     "output_type": "stream",
     "text": [
      "aquarium initializing\n",
      "rectangle\n",
      "Width: 25 cm Length: 25 cm Height: 40 cm \n",
      "Volume: 25 liters Water: 22.5 liters (90.0% full)\n",
      "rectangle\n",
      "Width: 25 cm Length: 25 cm Height: 112 cm \n",
      "Volume: 70 liters Water: 63.0 liters (90.0% full)\n"
     ]
    }
   ],
   "execution_count": 3
  },
  {
   "metadata": {
    "ExecuteTime": {
     "end_time": "2025-09-17T15:30:20.167172218Z",
     "start_time": "2025-09-17T15:30:18.937995051Z"
    }
   },
   "cell_type": "code",
   "source": [
    "class TowerTank(override var height: Int, var diameter: Int) :\n",
    "    AquariumOpen(height = height, width = diameter, length = diameter) {\n",
    "    override var volume: Int\n",
    "        get() = (width / 2 * length / 2 * height / 1000 * PI).toInt()\n",
    "        set(value) {\n",
    "            height = ((value * 1000 / PI) / (width / 2 * length / 2)).toInt()\n",
    "        }\n",
    "\n",
    "    override var water = volume * 0.8\n",
    "    override val shape = \"cylinder\"\n",
    "}\n",
    "\n",
    "fun buildTank() {\n",
    "    val myTower = TowerTank(diameter = 25, height = 40)\n",
    "    myTower.printSize()\n",
    "}\n",
    "\n",
    "buildTank()"
   ],
   "outputs": [
    {
     "name": "stdout",
     "output_type": "stream",
     "text": [
      "aquarium initializing\n",
      "cylinder\n",
      "Width: 25 cm Length: 25 cm Height: 40 cm \n",
      "Volume: 18 liters Water: 14.4 liters (80.0% full)\n"
     ]
    }
   ],
   "execution_count": 4
  },
  {
   "metadata": {
    "ExecuteTime": {
     "end_time": "2025-09-17T15:30:21.136328537Z",
     "start_time": "2025-09-17T15:30:20.234020247Z"
    }
   },
   "cell_type": "code",
   "source": [
    "interface FishAction {\n",
    "    fun eat()\n",
    "}\n",
    "\n",
    "abstract class AquariumFish {\n",
    "    abstract val color: String\n",
    "}\n",
    "\n",
    "class Shark : AquariumFish(), FishAction {\n",
    "    override val color = \"grey\"\n",
    "    override fun eat() {\n",
    "        println(\"hunt and eat fish\")\n",
    "    }\n",
    "}\n",
    "\n",
    "class Plecostomus : AquariumFish(), FishAction {\n",
    "    override val color = \"gold\"\n",
    "    override fun eat() {\n",
    "        println(\"eat algae\")\n",
    "    }\n",
    "}\n",
    "\n",
    "fun makeFish() {\n",
    "    val shark = Shark()\n",
    "    val pleco = Plecostomus()\n",
    "\n",
    "    println(\"Shark: ${shark.color}\")\n",
    "    shark.eat()\n",
    "    println(\"Plecostomus: ${pleco.color}\")\n",
    "    pleco.eat()\n",
    "}\n",
    "\n",
    "makeFish()"
   ],
   "outputs": [
    {
     "name": "stdout",
     "output_type": "stream",
     "text": [
      "Shark: grey\n",
      "hunt and eat fish\n",
      "Plecostomus: gold\n",
      "eat algae\n"
     ]
    }
   ],
   "execution_count": 5
  },
  {
   "metadata": {
    "ExecuteTime": {
     "end_time": "2025-09-17T15:30:21.927498404Z",
     "start_time": "2025-09-17T15:30:21.234435276Z"
    }
   },
   "cell_type": "code",
   "source": [
    "interface FishAction {\n",
    "    fun eat()\n",
    "}\n",
    "\n",
    "abstract class AquariumFish : FishAction {\n",
    "    abstract val color: String\n",
    "    override fun eat() = println(\"yum\")\n",
    "}\n",
    "\n",
    "class Shark : AquariumFish() {\n",
    "    override val color = \"grey\"\n",
    "}\n",
    "\n",
    "class Plecostomus : AquariumFish() {\n",
    "    override val color = \"gold\"\n",
    "}\n",
    "\n",
    "fun makeFish() {\n",
    "    val shark = Shark()\n",
    "    val pleco = Plecostomus()\n",
    "\n",
    "    println(\"Shark: ${shark.color}\")\n",
    "    shark.eat()\n",
    "    println(\"Plecostomus: ${pleco.color}\")\n",
    "    pleco.eat()\n",
    "}\n",
    "\n",
    "makeFish()"
   ],
   "outputs": [
    {
     "name": "stdout",
     "output_type": "stream",
     "text": [
      "Shark: grey\n",
      "yum\n",
      "Plecostomus: gold\n",
      "yum\n"
     ]
    }
   ],
   "execution_count": 6
  },
  {
   "metadata": {
    "ExecuteTime": {
     "end_time": "2025-09-17T15:30:22.917748468Z",
     "start_time": "2025-09-17T15:30:22.019313473Z"
    }
   },
   "cell_type": "code",
   "source": [
    "interface FishColor {\n",
    "    val color: String\n",
    "}\n",
    "\n",
    "object GoldColor : FishColor {\n",
    "    override val color = \"gold\"\n",
    "}\n",
    "\n",
    "class PrintingFishAction(val food: String) : FishAction {\n",
    "    override fun eat() {\n",
    "        println(food)\n",
    "    }\n",
    "}\n",
    "\n",
    "class Plecostomus : FishAction by PrintingFishAction(\"eat algae\"), FishColor by GoldColor\n",
    "\n",
    "class Shark : FishAction, FishColor {\n",
    "    override val color = \"grey\"\n",
    "    override fun eat() {\n",
    "        println(\"hunt and eat fish\")\n",
    "    }\n",
    "}\n",
    "\n",
    "fun makeFish() {\n",
    "    val shark = Shark()\n",
    "    val pleco = Plecostomus()\n",
    "\n",
    "    println(\"Shark: ${shark.color}\")\n",
    "    shark.eat()\n",
    "    println(\"Plecostomus: ${pleco.color}\")\n",
    "    pleco.eat()\n",
    "}\n",
    "\n",
    "makeFish()"
   ],
   "outputs": [
    {
     "name": "stdout",
     "output_type": "stream",
     "text": [
      "Shark: grey\n",
      "hunt and eat fish\n",
      "Plecostomus: gold\n",
      "eat algae\n"
     ]
    }
   ],
   "execution_count": 7
  },
  {
   "metadata": {
    "ExecuteTime": {
     "end_time": "2025-09-17T15:30:23.265379052Z",
     "start_time": "2025-09-17T15:30:23.045494292Z"
    }
   },
   "cell_type": "code",
   "source": [
    "class Plecostomus(fishColor: FishColor = GoldColor) : FishAction, FishColor by fishColor {\n",
    "    override fun eat() {\n",
    "        println(\"eat algae\")\n",
    "    }\n",
    "}"
   ],
   "outputs": [],
   "execution_count": 8
  },
  {
   "metadata": {
    "ExecuteTime": {
     "end_time": "2025-09-17T15:30:24.276488414Z",
     "start_time": "2025-09-17T15:30:23.554092591Z"
    }
   },
   "cell_type": "code",
   "source": [
    "data class Decoration(val rocks: String) {\n",
    "}\n",
    "\n",
    "fun makeDecorations() {\n",
    "    val decoration1 = Decoration(\"granite\")\n",
    "    println(decoration1)\n",
    "\n",
    "    val decoration2 = Decoration(\"slate\")\n",
    "    println(decoration2)\n",
    "\n",
    "    val decoration3 = Decoration(\"slate\")\n",
    "    println(decoration3)\n",
    "\n",
    "    println(decoration1.equals(decoration2))\n",
    "    println(decoration2.equals(decoration2))\n",
    "}\n",
    "\n",
    "makeDecorations()"
   ],
   "outputs": [
    {
     "name": "stdout",
     "output_type": "stream",
     "text": [
      "Decoration(rocks=granite)\n",
      "Decoration(rocks=slate)\n",
      "Decoration(rocks=slate)\n",
      "false\n",
      "true\n"
     ]
    }
   ],
   "execution_count": 9
  },
  {
   "metadata": {
    "ExecuteTime": {
     "end_time": "2025-09-17T15:30:25.249474487Z",
     "start_time": "2025-09-17T15:30:24.451788456Z"
    }
   },
   "cell_type": "code",
   "source": [
    "data class Decoration(val rocks: String) {\n",
    "}\n",
    "\n",
    "fun makeDecorations() {\n",
    "    val decoration1 = Decoration(\"granite\")\n",
    "    println(decoration1)\n",
    "\n",
    "    val decoration2 = Decoration(\"slate\")\n",
    "    println(decoration2)\n",
    "\n",
    "    val decoration3 = Decoration(\"slate\")\n",
    "    println(decoration3)\n",
    "\n",
    "    println(decoration1.equals(decoration2))\n",
    "    println(decoration2.equals(decoration2))\n",
    "}\n",
    "\n",
    "makeDecorations()"
   ],
   "outputs": [
    {
     "name": "stdout",
     "output_type": "stream",
     "text": [
      "Decoration(rocks=granite)\n",
      "Decoration(rocks=slate)\n",
      "Decoration(rocks=slate)\n",
      "false\n",
      "true\n"
     ]
    }
   ],
   "execution_count": 10
  },
  {
   "metadata": {
    "ExecuteTime": {
     "end_time": "2025-09-17T15:30:26.150160870Z",
     "start_time": "2025-09-17T15:30:25.396349857Z"
    }
   },
   "cell_type": "code",
   "source": [
    "data class Decoration2(val rocks: String, val wood: String, val diver: String) {\n",
    "}\n",
    "\n",
    "fun makeDecorations2() {\n",
    "    val d5 = Decoration2(\"crystal\", \"wood\", \"diver\")\n",
    "    println(d5)\n",
    "\n",
    "    val (rock, wood, diver) = d5\n",
    "    println(rock)\n",
    "    println(wood)\n",
    "    println(diver)\n",
    "}\n",
    "\n",
    "makeDecorations2()"
   ],
   "outputs": [
    {
     "name": "stdout",
     "output_type": "stream",
     "text": [
      "Decoration2(rocks=crystal, wood=wood, diver=diver)\n",
      "crystal\n",
      "wood\n",
      "diver\n"
     ]
    }
   ],
   "execution_count": 11
  },
  {
   "metadata": {
    "ExecuteTime": {
     "end_time": "2025-09-17T15:30:27.671781660Z",
     "start_time": "2025-09-17T15:30:26.390692410Z"
    }
   },
   "cell_type": "code",
   "source": [
    "enum class Color(val rgb: Int) {\n",
    "    RED(0xFF0000), GREEN(0x00FF00), BLUE(0x0000FF)\n",
    "}\n",
    "\n",
    "enum class Direction(val degrees: Int) {\n",
    "    NORTH(0), SOUTH(180), EAST(90), WEST(270)\n",
    "}\n",
    "\n",
    "println(Direction.EAST.name)\n",
    "println(Direction.EAST.ordinal)\n",
    "println(Direction.EAST.degrees)"
   ],
   "outputs": [
    {
     "name": "stdout",
     "output_type": "stream",
     "text": [
      "EAST\n",
      "2\n",
      "90\n"
     ]
    }
   ],
   "execution_count": 12
  }
 ],
 "metadata": {
  "kernelspec": {
   "display_name": "Kotlin",
   "language": "kotlin",
   "name": "kotlin"
  },
  "language_info": {
   "name": "kotlin",
   "version": "2.2.20-Beta2",
   "mimetype": "text/x-kotlin",
   "file_extension": ".kt",
   "pygments_lexer": "kotlin",
   "codemirror_mode": "text/x-kotlin",
   "nbconvert_exporter": ""
  }
 },
 "nbformat": 4,
 "nbformat_minor": 0
}
